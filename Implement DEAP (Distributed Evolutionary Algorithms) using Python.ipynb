{
 "cells": [
  {
   "cell_type": "code",
   "execution_count": 3,
   "id": "76a4368f",
   "metadata": {},
   "outputs": [
    {
     "name": "stdout",
     "output_type": "stream",
     "text": [
      "Collecting deap\n",
      "  Downloading deap-1.4.1.tar.gz (1.1 MB)\n",
      "\u001b[2K     \u001b[90m━━━━━━━━━━━━━━━━━━━━━━━━━━━━━━━━━━━━━━━━\u001b[0m \u001b[32m1.1/1.1 MB\u001b[0m \u001b[31m1.6 MB/s\u001b[0m eta \u001b[36m0:00:00\u001b[0ma \u001b[36m0:00:01\u001b[0m0m\n",
      "\u001b[?25h  Preparing metadata (setup.py) ... \u001b[?25ldone\n",
      "\u001b[?25hRequirement already satisfied: numpy in ./opt/anaconda3/lib/python3.9/site-packages (from deap) (1.26.1)\n",
      "Building wheels for collected packages: deap\n",
      "  Building wheel for deap (setup.py) ... \u001b[?25ldone\n",
      "\u001b[?25h  Created wheel for deap: filename=deap-1.4.1-cp39-cp39-macosx_10_9_x86_64.whl size=104175 sha256=1a3430a6b8651b4abad8bb6ecfca4ceeef3f7252575d28b6ce8f33cfe175946e\n",
      "  Stored in directory: /Users/dyaneshdhawale/Library/Caches/pip/wheels/d9/58/fd/a64ce13f5e2324689e8bc1857c9562d53020d96cc88f5bf787\n",
      "Successfully built deap\n",
      "Installing collected packages: deap\n",
      "Successfully installed deap-1.4.1\n",
      "Note: you may need to restart the kernel to use updated packages.\n"
     ]
    }
   ],
   "source": [
    "pip install deap\n"
   ]
  },
  {
   "cell_type": "code",
   "execution_count": 7,
   "id": "fb826a55",
   "metadata": {
    "scrolled": true
   },
   "outputs": [
    {
     "name": "stdout",
     "output_type": "stream",
     "text": [
      "Start of evolution\n",
      "gen\tnevals\tavg     \tstd     \tmin\tmax\n",
      "0  \t300   \t0.503667\t0.499987\t0  \t1  \n",
      "1  \t177   \t0.629333\t0.482983\t0  \t1  \n",
      "2  \t194   \t0.725   \t0.446514\t0  \t1  \n",
      "3  \t181   \t0.802333\t0.398239\t0  \t1  \n",
      "4  \t192   \t0.864667\t0.342079\t0  \t1  \n",
      "5  \t168   \t0.914333\t0.279871\t0  \t1  \n",
      "6  \t172   \t0.962333\t0.190389\t0  \t1  \n",
      "7  \t162   \t0.984333\t0.124182\t0  \t1  \n",
      "8  \t162   \t0.992   \t0.0890842\t0  \t1  \n",
      "9  \t196   \t0.989667\t0.101126 \t0  \t1  \n",
      "10 \t180   \t0.993667\t0.0793298\t0  \t1  \n",
      "11 \t186   \t0.989   \t0.104302 \t0  \t1  \n",
      "12 \t178   \t0.991333\t0.0926906\t0  \t1  \n",
      "13 \t197   \t0.991667\t0.0909059\t0  \t1  \n",
      "14 \t184   \t0.989333\t0.102727 \t0  \t1  \n",
      "15 \t157   \t0.99    \t0.0994987\t0  \t1  \n",
      "16 \t188   \t0.989667\t0.101126 \t0  \t1  \n",
      "17 \t176   \t0.989667\t0.101126 \t0  \t1  \n",
      "18 \t192   \t0.988667\t0.105853 \t0  \t1  \n",
      "19 \t173   \t0.991667\t0.0909059\t0  \t1  \n",
      "20 \t195   \t0.988667\t0.105853 \t0  \t1  \n",
      "21 \t182   \t0.990333\t0.0978428\t0  \t1  \n",
      "22 \t176   \t0.991   \t0.0944405\t0  \t1  \n",
      "23 \t175   \t0.987333\t0.111831 \t0  \t1  \n",
      "24 \t175   \t0.993667\t0.0793298\t0  \t1  \n",
      "25 \t183   \t0.991333\t0.0926906\t0  \t1  \n",
      "26 \t165   \t0.993667\t0.0793298\t0  \t1  \n",
      "27 \t190   \t0.988667\t0.105853 \t0  \t1  \n",
      "28 \t173   \t0.991   \t0.0944405\t0  \t1  \n",
      "29 \t167   \t0.993   \t0.0833727\t0  \t1  \n",
      "30 \t172   \t0.991   \t0.0944405\t0  \t1  \n",
      "31 \t166   \t0.989333\t0.102727 \t0  \t1  \n",
      "32 \t178   \t0.990333\t0.0978428\t0  \t1  \n",
      "33 \t165   \t0.990333\t0.0978428\t0  \t1  \n",
      "34 \t190   \t0.989333\t0.102727 \t0  \t1  \n",
      "35 \t192   \t0.987667\t0.110369 \t0  \t1  \n",
      "36 \t185   \t0.985   \t0.121552 \t0  \t1  \n",
      "37 \t198   \t0.988   \t0.108885 \t0  \t1  \n",
      "38 \t171   \t0.988667\t0.105853 \t0  \t1  \n",
      "39 \t174   \t0.99    \t0.0994987\t0  \t1  \n",
      "40 \t186   \t0.988667\t0.105853 \t0  \t1  \n",
      "Best individual: [1, 1, 1, 1, 1, 1, 1, 1, 1, 1]\n"
     ]
    }
   ],
   "source": [
    "import random\n",
    "from deap import base, creator, tools, algorithms\n",
    "import numpy as np\n",
    "# Fitness function (maximize sum of elements)\n",
    "def eval_func(individual):\n",
    "    return sum(individual),  # maximize the sum\n",
    "\n",
    "# Create fitness and individual types\n",
    "creator.create(\"FitnessMax\", base.Fitness, weights=(1.0,))\n",
    "creator.create(\"Individual\", list, fitness=creator.FitnessMax)\n",
    "\n",
    "# Toolbox initialization\n",
    "toolbox = base.Toolbox()\n",
    "\n",
    "# Attribute creation operator (binary values)\n",
    "toolbox.register(\"attr_bool\", random.randint, 0, 1)\n",
    "\n",
    "# Individual creation operator (list of 10 booleans)\n",
    "toolbox.register(\"individual\", tools.initRepeat, creator.Individual, toolbox.attr_bool, n=10)\n",
    "\n",
    "# Population creation operator\n",
    "toolbox.register(\"population\", tools.initRepeat, list, toolbox.individual)\n",
    "\n",
    "# Evaluation function registration\n",
    "toolbox.register(\"evaluate\", eval_func)\n",
    "\n",
    "# Mating operator (two-point crossover)\n",
    "toolbox.register(\"mate\", tools.cxTwoPoint)\n",
    "\n",
    "# Mutation operator (flip bit with 5% probability)\n",
    "toolbox.register(\"mutate\", tools.mutFlipBit, indpb=0.05)\n",
    "\n",
    "# Selection operator (tournament selection, size 3)\n",
    "toolbox.register(\"select\", tools.selTournament, tournsize=3)\n",
    "# Create initial population\n",
    "population = toolbox.population(n=300)\n",
    "\n",
    "# Start of evolutionary algorithm\n",
    "print(\"Start of evolution\")\n",
    "\n",
    "# Hall of Fame (stores best individual)\n",
    "hof = tools.HallOfFame(1)\n",
    "\n",
    "# Define statistics to track\n",
    "stats = tools.Statistics()\n",
    "stats.register(\"avg\", np.mean)\n",
    "stats.register(\"std\", np.std)\n",
    "stats.register(\"min\", np.min)\n",
    "stats.register(\"max\", np.max)\n",
    "# Run genetic algorithm\n",
    "population, log = algorithms.eaSimple(\n",
    "    population, toolbox, cxpb=0.5, mutpb=0.2, ngen=40, stats=stats, halloffame=hof, verbose=True\n",
    ")\n",
    "\n",
    "# Print best individual\n",
    "print(\"Best individual:\", hof[0])"
   ]
  },
  {
   "cell_type": "code",
   "execution_count": null,
   "id": "e38afbca",
   "metadata": {},
   "outputs": [],
   "source": []
  }
 ],
 "metadata": {
  "kernelspec": {
   "display_name": "Python 3 (ipykernel)",
   "language": "python",
   "name": "python3"
  },
  "language_info": {
   "codemirror_mode": {
    "name": "ipython",
    "version": 3
   },
   "file_extension": ".py",
   "mimetype": "text/x-python",
   "name": "python",
   "nbconvert_exporter": "python",
   "pygments_lexer": "ipython3",
   "version": "3.9.7"
  }
 },
 "nbformat": 4,
 "nbformat_minor": 5
}
